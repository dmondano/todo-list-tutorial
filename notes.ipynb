{
 "cells": [
  {
   "cell_type": "markdown",
   "metadata": {},
   "source": [
    "# Tags\n",
    "\n",
    "* classes can be individually edited for styling within tags\n",
    "* id's should be used with just one specific thing: unique!\n",
    "* styling tags - write the tag\n",
    "* styling classes - initialize w/ \".\"\n",
    "* styling id's - intialize w/ \"#\"\n"
   ]
  }
 ],
 "metadata": {
  "language_info": {
   "name": "python"
  }
 },
 "nbformat": 4,
 "nbformat_minor": 2
}
